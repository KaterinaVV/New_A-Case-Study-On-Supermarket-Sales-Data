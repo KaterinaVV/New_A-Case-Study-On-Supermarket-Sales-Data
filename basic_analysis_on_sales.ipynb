{
 "cells": [
  {
   "cell_type": "code",
   "execution_count": 1,
   "metadata": {},
   "outputs": [],
   "source": [
    "# load libraries\n",
    "import numpy as np\n",
    "import pandas as pd\n",
    "import seaborn as sns\n",
    "import matplotlib.pyplot as plt\n",
    "import warnings\n",
    "warnings.simplefilter(action=\"ignore\", category=Warning)"
   ]
  },
  {
   "cell_type": "code",
   "execution_count": 2,
   "metadata": {},
   "outputs": [
    {
     "data": {
      "text/html": [
       "<div>\n",
       "<style scoped>\n",
       "    .dataframe tbody tr th:only-of-type {\n",
       "        vertical-align: middle;\n",
       "    }\n",
       "\n",
       "    .dataframe tbody tr th {\n",
       "        vertical-align: top;\n",
       "    }\n",
       "\n",
       "    .dataframe thead th {\n",
       "        text-align: right;\n",
       "    }\n",
       "</style>\n",
       "<table border=\"1\" class=\"dataframe\">\n",
       "  <thead>\n",
       "    <tr style=\"text-align: right;\">\n",
       "      <th></th>\n",
       "      <th>Unnamed: 0</th>\n",
       "      <th>Date</th>\n",
       "      <th>StoreNumber</th>\n",
       "      <th>CashRegisterNumber</th>\n",
       "      <th>ReceiptNumber</th>\n",
       "      <th>ReceiptRowNumber</th>\n",
       "      <th>Time</th>\n",
       "      <th>ArticleNumber</th>\n",
       "      <th>ArticleName</th>\n",
       "      <th>Quantity</th>\n",
       "      <th>Month</th>\n",
       "      <th>Day</th>\n",
       "      <th>Hour</th>\n",
       "    </tr>\n",
       "  </thead>\n",
       "  <tbody>\n",
       "    <tr>\n",
       "      <th>0</th>\n",
       "      <td>0</td>\n",
       "      <td>2022-01-03 09:21:14</td>\n",
       "      <td>1001</td>\n",
       "      <td>1</td>\n",
       "      <td>296</td>\n",
       "      <td>1</td>\n",
       "      <td>09:21:14</td>\n",
       "      <td>415945</td>\n",
       "      <td>AS Sandwich Weizen 750g</td>\n",
       "      <td>1.0</td>\n",
       "      <td>1</td>\n",
       "      <td>0</td>\n",
       "      <td>9</td>\n",
       "    </tr>\n",
       "    <tr>\n",
       "      <th>1</th>\n",
       "      <td>1</td>\n",
       "      <td>2022-01-03 09:21:14</td>\n",
       "      <td>1001</td>\n",
       "      <td>1</td>\n",
       "      <td>296</td>\n",
       "      <td>2</td>\n",
       "      <td>09:21:14</td>\n",
       "      <td>428760</td>\n",
       "      <td>BR Alpensalz 500g</td>\n",
       "      <td>1.0</td>\n",
       "      <td>1</td>\n",
       "      <td>0</td>\n",
       "      <td>9</td>\n",
       "    </tr>\n",
       "    <tr>\n",
       "      <th>2</th>\n",
       "      <td>2</td>\n",
       "      <td>2022-01-03 09:21:14</td>\n",
       "      <td>1001</td>\n",
       "      <td>1</td>\n",
       "      <td>296</td>\n",
       "      <td>3</td>\n",
       "      <td>09:21:14</td>\n",
       "      <td>413795</td>\n",
       "      <td>GL Gouda jung SHB oGt400g</td>\n",
       "      <td>1.0</td>\n",
       "      <td>1</td>\n",
       "      <td>0</td>\n",
       "      <td>9</td>\n",
       "    </tr>\n",
       "    <tr>\n",
       "      <th>3</th>\n",
       "      <td>3</td>\n",
       "      <td>2022-01-03 09:21:14</td>\n",
       "      <td>1001</td>\n",
       "      <td>1</td>\n",
       "      <td>296</td>\n",
       "      <td>4</td>\n",
       "      <td>09:21:14</td>\n",
       "      <td>407194</td>\n",
       "      <td>Mondo Italiano Penne500g</td>\n",
       "      <td>1.0</td>\n",
       "      <td>1</td>\n",
       "      <td>0</td>\n",
       "      <td>9</td>\n",
       "    </tr>\n",
       "    <tr>\n",
       "      <th>4</th>\n",
       "      <td>4</td>\n",
       "      <td>2022-01-03 09:21:14</td>\n",
       "      <td>1001</td>\n",
       "      <td>1</td>\n",
       "      <td>296</td>\n",
       "      <td>5</td>\n",
       "      <td>09:21:14</td>\n",
       "      <td>419727</td>\n",
       "      <td>GL H-Milch 3,5% 1L VLOG</td>\n",
       "      <td>1.0</td>\n",
       "      <td>1</td>\n",
       "      <td>0</td>\n",
       "      <td>9</td>\n",
       "    </tr>\n",
       "  </tbody>\n",
       "</table>\n",
       "</div>"
      ],
      "text/plain": [
       "   Unnamed: 0                 Date  StoreNumber  CashRegisterNumber  \\\n",
       "0           0  2022-01-03 09:21:14         1001                   1   \n",
       "1           1  2022-01-03 09:21:14         1001                   1   \n",
       "2           2  2022-01-03 09:21:14         1001                   1   \n",
       "3           3  2022-01-03 09:21:14         1001                   1   \n",
       "4           4  2022-01-03 09:21:14         1001                   1   \n",
       "\n",
       "   ReceiptNumber  ReceiptRowNumber      Time  ArticleNumber  \\\n",
       "0            296                 1  09:21:14         415945   \n",
       "1            296                 2  09:21:14         428760   \n",
       "2            296                 3  09:21:14         413795   \n",
       "3            296                 4  09:21:14         407194   \n",
       "4            296                 5  09:21:14         419727   \n",
       "\n",
       "                 ArticleName  Quantity  Month  Day  Hour  \n",
       "0    AS Sandwich Weizen 750g       1.0      1    0     9  \n",
       "1          BR Alpensalz 500g       1.0      1    0     9  \n",
       "2  GL Gouda jung SHB oGt400g       1.0      1    0     9  \n",
       "3   Mondo Italiano Penne500g       1.0      1    0     9  \n",
       "4    GL H-Milch 3,5% 1L VLOG       1.0      1    0     9  "
      ]
     },
     "execution_count": 2,
     "metadata": {},
     "output_type": "execute_result"
    }
   ],
   "source": [
    "# load data\n",
    "df = pd.read_csv(\"Sales_data.csv\")\n",
    "df.head()"
   ]
  },
  {
   "cell_type": "code",
   "execution_count": 3,
   "metadata": {},
   "outputs": [
    {
     "data": {
      "text/plain": [
       "31720162"
      ]
     },
     "execution_count": 3,
     "metadata": {},
     "output_type": "execute_result"
    }
   ],
   "source": [
    "# rows and columns\n",
    "df.shape[0]"
   ]
  },
  {
   "cell_type": "code",
   "execution_count": 4,
   "metadata": {},
   "outputs": [
    {
     "name": "stdout",
     "output_type": "stream",
     "text": [
      "<class 'pandas.core.frame.DataFrame'>\n",
      "RangeIndex: 31720162 entries, 0 to 31720161\n",
      "Data columns (total 13 columns):\n",
      " #   Column              Dtype  \n",
      "---  ------              -----  \n",
      " 0   Unnamed: 0          int64  \n",
      " 1   Date                object \n",
      " 2   StoreNumber         int64  \n",
      " 3   CashRegisterNumber  int64  \n",
      " 4   ReceiptNumber       int64  \n",
      " 5   ReceiptRowNumber    int64  \n",
      " 6   Time                object \n",
      " 7   ArticleNumber       int64  \n",
      " 8   ArticleName         object \n",
      " 9   Quantity            float64\n",
      " 10  Month               int64  \n",
      " 11  Day                 int64  \n",
      " 12  Hour                int64  \n",
      "dtypes: float64(1), int64(9), object(3)\n",
      "memory usage: 3.1+ GB\n"
     ]
    }
   ],
   "source": [
    "df.info()"
   ]
  },
  {
   "cell_type": "code",
   "execution_count": 5,
   "metadata": {},
   "outputs": [
    {
     "data": {
      "text/plain": [
       "Month\n",
       "5     3241720.449\n",
       "3     3196341.162\n",
       "7     3112825.810\n",
       "10    3054290.483\n",
       "4     2933217.284\n",
       "6     2913495.436\n",
       "11    2911562.771\n",
       "9     2870237.592\n",
       "12    2867076.116\n",
       "1     2774369.282\n",
       "2     2734894.563\n",
       "8     2724350.557\n",
       "Name: Quantity, dtype: float64"
      ]
     },
     "metadata": {},
     "output_type": "display_data"
    },
    {
     "data": {
      "text/plain": [
       "Text(0.5, 0, 'Months')"
      ]
     },
     "execution_count": 5,
     "metadata": {},
     "output_type": "execute_result"
    },
    {
     "data": {
      "image/png": "[encoded data removed]",
      "text/plain": [
       "<Figure size 720x360 with 1 Axes>"
      ]
     },
     "metadata": {
      "needs_background": "light"
     },
     "output_type": "display_data"
    }
   ],
   "source": [
    "# Monthly sales\n",
    "display(df.groupby('Month')['Quantity'].sum().sort_values(ascending=False))\n",
    "# visualization\n",
    "monthly_sales = df.groupby('Month').sum()\n",
    "plt.figure(figsize=(10,5))\n",
    "sns.barplot(\n",
    "    y=monthly_sales['Quantity'],\n",
    "    x=monthly_sales.index,\n",
    "    data=monthly_sales)\n",
    "plt.title(\"Total Sales by Months\", fontsize=15)\n",
    "plt.ylabel(\"Sales\", fontsize=12)\n",
    "plt.xlabel('Months', fontsize=12)"
   ]
  },
  {
   "attachments": {},
   "cell_type": "markdown",
   "metadata": {},
   "source": []
  },
  {
   "cell_type": "code",
   "execution_count": 6,
   "metadata": {},
   "outputs": [
    {
     "data": {
      "text/plain": [
       "Hour\n",
       "17    3352849.668\n",
       "16    3151823.264\n",
       "18    3138411.093\n",
       "12    3118936.884\n",
       "11    3019322.801\n",
       "15    2866573.765\n",
       "19    2840482.679\n",
       "10    2789330.437\n",
       "13    2765599.304\n",
       "14    2714342.762\n",
       "9     2294909.580\n",
       "8     1797714.114\n",
       "7     1334659.081\n",
       "20      95568.017\n",
       "6       53554.056\n",
       "5         304.000\n",
       "Name: Quantity, dtype: float64"
      ]
     },
     "metadata": {},
     "output_type": "display_data"
    },
    {
     "data": {
      "image/png": "[encoded data removed]",
      "text/plain": [
       "<Figure size 720x360 with 1 Axes>"
      ]
     },
     "metadata": {
      "needs_background": "light"
     },
     "output_type": "display_data"
    }
   ],
   "source": [
    "# Hourly sales\n",
    "display(df.groupby('Hour')['Quantity'].sum().sort_values(ascending=False))\n",
    "# visualization\n",
    "hourly_sales = df.groupby('Hour').sum()\n",
    "plt.figure(figsize=(10,5))\n",
    "sns.barplot(\n",
    "    y=hourly_sales['Quantity'],\n",
    "    x=hourly_sales.index,\n",
    "    data=hourly_sales)\n",
    "plt.title(\"Total Sales by Hours\", fontsize=15)\n",
    "plt.ylabel(\"Sales\", fontsize=12)\n",
    "plt.xlabel('Hours', fontsize=12)\n",
    "plt.grid(True)"
   ]
  },
  {
   "cell_type": "code",
   "execution_count": 7,
   "metadata": {},
   "outputs": [
    {
     "data": {
      "text/plain": [
       "Day\n",
       "5    7256432.084\n",
       "4    6335685.893\n",
       "0    5658579.944\n",
       "2    5406895.892\n",
       "1    5350526.874\n",
       "3    5283330.232\n",
       "6      42930.586\n",
       "Name: Quantity, dtype: float64"
      ]
     },
     "metadata": {},
     "output_type": "display_data"
    },
    {
     "data": {
      "image/png": "[encoded data removed]",
      "text/plain": [
       "<Figure size 720x360 with 1 Axes>"
      ]
     },
     "metadata": {
      "needs_background": "light"
     },
     "output_type": "display_data"
    }
   ],
   "source": [
    "# Daily sales\n",
    "display(df.groupby('Day')['Quantity'].sum().sort_values(ascending=False))\n",
    "# visualization\n",
    "daily_sales = df.groupby('Day').sum()\n",
    "daily_sales.index = ['Monday', 'Tuesday', 'Wednesday', 'Thursday', 'Friday', 'Saturday', 'Sunday']\n",
    "plt.figure(figsize=(10,5))\n",
    "sns.lineplot(\n",
    "    y=daily_sales['Quantity'],\n",
    "    x=daily_sales.index,\n",
    "    data=daily_sales)\n",
    "plt.title(\"Total Sales by Days\", fontsize=15)\n",
    "plt.ylabel(\"Sales\", fontsize=12)\n",
    "plt.xlabel('Day of week', fontsize=12)\n",
    "plt.grid(True)"
   ]
  },
  {
   "cell_type": "code",
   "execution_count": 8,
   "metadata": {},
   "outputs": [
    {
     "data": {
      "text/plain": [
       "StoreNumber\n",
       "1223    3904482.168\n",
       "1311    2933707.391\n",
       "1504    2896610.573\n",
       "1028    2740207.040\n",
       "1417    2709388.013\n",
       "2801    2671775.532\n",
       "1487    2405893.930\n",
       "1033    2308433.940\n",
       "1001    2210264.581\n",
       "2808    2160970.871\n",
       "1098    2147757.546\n",
       "1053    2116568.601\n",
       "1303    1896586.105\n",
       "1007    1274132.712\n",
       "1436     957602.502\n",
       "Name: Quantity, dtype: float64"
      ]
     },
     "metadata": {},
     "output_type": "display_data"
    },
    {
     "data": {
      "image/png": "[encoded data removed]",
      "text/plain": [
       "<Figure size 720x360 with 1 Axes>"
      ]
     },
     "metadata": {
      "needs_background": "light"
     },
     "output_type": "display_data"
    }
   ],
   "source": [
    "# maximum sales by Store\n",
    "display(df.groupby('StoreNumber')['Quantity'].sum().sort_values(ascending=False))\n",
    "# visualization\n",
    "store_sales = df.groupby('StoreNumber').sum()\n",
    "plt.figure(figsize=(10,5))\n",
    "sns.barplot(\n",
    "    y=store_sales['Quantity'],\n",
    "    x=store_sales.index,\n",
    "    data=store_sales)\n",
    "plt.title(\"Total Sales by Stores\", fontsize=15)\n",
    "plt.ylabel(\"Sales\", fontsize=12)\n",
    "plt.xlabel('Stores', fontsize=12)\n",
    "plt.grid(True)"
   ]
  }
 ],
 "metadata": {
  "kernelspec": {
   "display_name": "base",
   "language": "python",
   "name": "python3"
  },
  "language_info": {
   "codemirror_mode": {
    "name": "ipython",
    "version": 3
   },
   "file_extension": ".py",
   "mimetype": "text/x-python",
   "name": "python",
   "nbconvert_exporter": "python",
   "pygments_lexer": "ipython3",
   "version": "3.9.7"
  },
  "orig_nbformat": 4
 },
 "nbformat": 4,
 "nbformat_minor": 2
}
