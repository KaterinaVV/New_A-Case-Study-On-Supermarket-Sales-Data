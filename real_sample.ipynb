{
 "cells": [
  {
   "cell_type": "code",
   "execution_count": 1,
   "metadata": {},
   "outputs": [],
   "source": [
    "# load libraries\n",
    "import numpy as np\n",
    "import pandas as pd\n",
    "import seaborn as sns\n",
    "import matplotlib.pyplot as plt\n",
    "import warnings\n",
    "warnings.simplefilter(action=\"ignore\", category=Warning)"
   ]
  },
  {
   "cell_type": "code",
   "execution_count": 2,
   "metadata": {},
   "outputs": [],
   "source": [
    "from sklearn.preprocessing import LabelEncoder\n",
    "from sklearn.model_selection import train_test_split\n",
    "\n",
    "from sklearn.linear_model import Lasso\n",
    "\n",
    "from sklearn.neural_network import MLPRegressor\n",
    "\n",
    "from sklearn.ensemble import AdaBoostRegressor, RandomForestRegressor, ExtraTreesRegressor\n",
    "\n",
    "from sklearn.metrics import mean_squared_error as mse, r2_score as r2\n",
    "\n",
    "import time"
   ]
  },
  {
   "cell_type": "code",
   "execution_count": 3,
   "metadata": {},
   "outputs": [],
   "source": [
    "# load data\n",
    "df = pd.read_csv(\"Article_top_Data.csv\")\n",
    "# group by Date\n",
    "df['Day'] = df['Date'].map(lambda x: 1 if len(pd.bdate_range(x, x)) else 0 )\n",
    "\n",
    "# group by Hour\n",
    "df['Hour'] = df['Hour'].map(lambda x: 0 if int(x)>=5 and int(x)<=8\n",
    "                                            else 1 if int(x)>=9 and int(x)<=12\n",
    "                                            else 2 if int(x)>=13 and int(x)<=16\n",
    "                                            else 3)\n",
    "\n",
    "# # group month by seasons\n",
    "# df['Month'] = df['Month'].map(lambda x: 0 if int(x)>=3 and int(x)<=5 \n",
    "#                                             else 1 if int(x)>=6 and int(x)<=8 \n",
    "#                                             else 2 if int(x)>=9 and int(x)<=11\n",
    "#                                             else 3)\n",
    "\n",
    "# # add temperature for each seasons\n",
    "# df.loc[(df.Month==0), 'Temp'] = 2.28\n",
    "# df.loc[(df.Month==1), 'Temp'] = 8.9\n",
    "# df.loc[(df.Month==2), 'Temp'] = 19.57\n",
    "# df.loc[(df.Month==3), 'Temp'] = 10.06\n"
   ]
  },
  {
   "cell_type": "markdown",
   "metadata": {},
   "source": [
    "# Avocado vorgereift ST\t"
   ]
  },
  {
   "cell_type": "code",
   "execution_count": 31,
   "metadata": {},
   "outputs": [
    {
     "name": "stdout",
     "output_type": "stream",
     "text": [
      "0.9913911463033305\n",
      "0.8768258289239611\n",
      "24067.14\n"
     ]
    }
   ],
   "source": [
    "article = df.loc[:,['StoreNumber', 'Quantity', 'Month', 'Day','Hour']][df.ArticleNumber == 40421]\n",
    "article = article.groupby(['StoreNumber', 'Month', 'Day','Hour'])['Quantity'].sum().reset_index()\n",
    "article.head()\n",
    "\n",
    "x = article.drop('Quantity', axis=1)\n",
    "encoder = LabelEncoder()\n",
    "for col in x.columns:\n",
    "    x[col] = encoder.fit_transform(x[col])\n",
    "y = article['Quantity']\n",
    "\n",
    "x_train = x[x.Month<9]\n",
    "x_test = x[x.Month>=9]\n",
    "\n",
    "y_train = y.iloc[x_train.index]\n",
    "y_test = y.iloc[x_test.index]\n",
    "\n",
    "# Random forest\n",
    "rf=RandomForestRegressor()\n",
    "rf.fit(x_train, y_train)\n",
    "print(rf.score(x_train, y_train))\n",
    "\n",
    "y_rf = rf.predict(x_test)\n",
    "print(r2(y_test, y_rf))\n",
    "\n",
    "print(y_rf.sum())\n",
    "# print(y_test.sum())"
   ]
  },
  {
   "cell_type": "markdown",
   "metadata": {},
   "source": []
  },
  {
   "cell_type": "markdown",
   "metadata": {},
   "source": [
    "# Gurken ST"
   ]
  },
  {
   "cell_type": "code",
   "execution_count": 14,
   "metadata": {},
   "outputs": [
    {
     "name": "stdout",
     "output_type": "stream",
     "text": [
      "0.9920203704621591\n",
      "0.8483395704248256\n",
      "64225.89\n",
      "60861.0\n"
     ]
    }
   ],
   "source": [
    "article = df.loc[:,['StoreNumber', 'Quantity', 'Month', 'Day','Hour']][df.ArticleNumber== 46150]\n",
    "article = article.groupby(['StoreNumber', 'Month', 'Day','Hour'])['Quantity'].sum().reset_index()\n",
    "article.head()\n",
    "\n",
    "x = article.drop('Quantity', axis=1)\n",
    "encoder = LabelEncoder()\n",
    "for col in x.columns:\n",
    "    x[col] = encoder.fit_transform(x[col])\n",
    "y = article['Quantity']\n",
    "\n",
    "x_train = x[x.Month<9]\n",
    "x_test = x[x.Month>=9]\n",
    "\n",
    "y_train = y.iloc[x_train.index]\n",
    "y_test = y.iloc[x_test.index]\n",
    "\n",
    "# Random forest\n",
    "rf=RandomForestRegressor()\n",
    "rf.fit(x_train, y_train)\n",
    "print(rf.score(x_train, y_train))\n",
    "\n",
    "y_rf = rf.predict(x_test)\n",
    "print(r2(y_test, y_rf))\n",
    "\n",
    "print(y_rf.sum())\n",
    "print(y_test.sum())"
   ]
  },
  {
   "cell_type": "markdown",
   "metadata": {},
   "source": [
    "# M.I. Mozzarella oGt 125g"
   ]
  },
  {
   "cell_type": "code",
   "execution_count": 16,
   "metadata": {},
   "outputs": [
    {
     "name": "stdout",
     "output_type": "stream",
     "text": [
      "0.9915645974639984\n",
      "0.8839007486228303\n",
      "17383.02\n",
      "16068.0\n"
     ]
    }
   ],
   "source": [
    "article = df.loc[:,['StoreNumber', 'Quantity', 'Month', 'Day','Hour']][df.ArticleNumber== 406966]\n",
    "article = article.groupby(['StoreNumber', 'Month', 'Day','Hour'])['Quantity'].sum().reset_index()\n",
    "article.head()\n",
    "\n",
    "x = article.drop('Quantity', axis=1)\n",
    "encoder = LabelEncoder()\n",
    "for col in x.columns:\n",
    "    x[col] = encoder.fit_transform(x[col])\n",
    "y = article['Quantity']\n",
    "\n",
    "x_train = x[x.Month<10]\n",
    "x_test = x[x.Month>=10]\n",
    "\n",
    "y_train = y.iloc[x_train.index]\n",
    "y_test = y.iloc[x_test.index]\n",
    "\n",
    "# Random forest\n",
    "rf=RandomForestRegressor()\n",
    "rf.fit(x_train, y_train)\n",
    "print(rf.score(x_train, y_train))\n",
    "\n",
    "y_rf = rf.predict(x_test)\n",
    "print(r2(y_test, y_rf))\n",
    "\n",
    "print(y_rf.sum())\n",
    "print(y_test.sum())"
   ]
  },
  {
   "cell_type": "markdown",
   "metadata": {},
   "source": [
    "# GL Sahne 30% 200g VLOG"
   ]
  },
  {
   "cell_type": "code",
   "execution_count": 40,
   "metadata": {},
   "outputs": [
    {
     "name": "stdout",
     "output_type": "stream",
     "text": [
      "0.986962946716229\n",
      "0.8822521322039114\n",
      "28923.33\n",
      "31859.0\n"
     ]
    }
   ],
   "source": [
    "article = df.loc[:,['StoreNumber', 'Quantity', 'Month', 'Day','Hour']][df.ArticleNumber== 421409]\n",
    "article = article.groupby(['StoreNumber', 'Month', 'Day','Hour'])['Quantity'].sum().reset_index()\n",
    "article.head()\n",
    "\n",
    "x = article.drop('Quantity', axis=1)\n",
    "encoder = LabelEncoder()\n",
    "for col in x.columns:\n",
    "    x[col] = encoder.fit_transform(x[col])\n",
    "y = article['Quantity']\n",
    "\n",
    "x_train = x[x.Month<9]\n",
    "x_test = x[x.Month>=9]\n",
    "\n",
    "y_train = y.iloc[x_train.index]\n",
    "y_test = y.iloc[x_test.index]\n",
    "\n",
    "# Random forest\n",
    "rf=RandomForestRegressor()\n",
    "rf.fit(x_train, y_train)\n",
    "print(rf.score(x_train, y_train))\n",
    "\n",
    "y_rf = rf.predict(x_test)\n",
    "print(r2(y_test, y_rf))\n",
    "\n",
    "print(y_rf.sum())\n",
    "print(y_test.sum())"
   ]
  },
  {
   "cell_type": "markdown",
   "metadata": {},
   "source": [
    "# Schlaufentragetasche ST"
   ]
  },
  {
   "cell_type": "code",
   "execution_count": 45,
   "metadata": {},
   "outputs": [
    {
     "name": "stdout",
     "output_type": "stream",
     "text": [
      "0.992469003093332\n",
      "0.7643792288410663\n",
      "25584.61\n",
      "22225.0\n"
     ]
    }
   ],
   "source": [
    "article = df.loc[:,['StoreNumber', 'Quantity', 'Month', 'Day','Hour']][df.ArticleNumber== 435066]\n",
    "article = article.groupby(['StoreNumber', 'Month', 'Day','Hour'])['Quantity'].sum().reset_index()\n",
    "article.head()\n",
    "\n",
    "x = article.drop('Quantity', axis=1)\n",
    "encoder = LabelEncoder()\n",
    "for col in x.columns:\n",
    "    x[col] = encoder.fit_transform(x[col])\n",
    "y = article['Quantity']\n",
    "\n",
    "x_train = x[x.Month<10]\n",
    "x_test = x[x.Month>=10]\n",
    "\n",
    "y_train = y.iloc[x_train.index]\n",
    "y_test = y.iloc[x_test.index]\n",
    "\n",
    "# Random forest\n",
    "rf=RandomForestRegressor()\n",
    "rf.fit(x_train, y_train)\n",
    "print(rf.score(x_train, y_train))\n",
    "\n",
    "y_rf = rf.predict(x_test)\n",
    "print(r2(y_test, y_rf))\n",
    "\n",
    "print(y_rf.sum())\n",
    "print(y_test.sum())"
   ]
  },
  {
   "cell_type": "markdown",
   "metadata": {},
   "source": [
    "# BO-Laugenbreze 1ST\t"
   ]
  },
  {
   "cell_type": "code",
   "execution_count": 69,
   "metadata": {},
   "outputs": [
    {
     "name": "stdout",
     "output_type": "stream",
     "text": [
      "0.978343701013143\n",
      "0.8469393907639662\n",
      "67656.37\n",
      "74732.0\n"
     ]
    }
   ],
   "source": [
    "article = df.loc[:,['StoreNumber', 'Quantity', 'Month', 'Day','Hour']][df.Group== 'BO-Laugenbreze 1ST'\t]\n",
    "article = article.groupby(['StoreNumber', 'Month', 'Day','Hour'])['Quantity'].sum().reset_index()\n",
    "article.head()\n",
    "\n",
    "x = article.drop('Quantity', axis=1)\n",
    "encoder = LabelEncoder()\n",
    "for col in x.columns:\n",
    "    x[col] = encoder.fit_transform(x[col])\n",
    "y = article['Quantity']\n",
    "\n",
    "x_train = x[x.Month<9]\n",
    "x_test = x[x.Month>=9]\n",
    "\n",
    "y_train = y.iloc[x_train.index]\n",
    "y_test = y.iloc[x_test.index]\n",
    "\n",
    "# Random forest\n",
    "rf=RandomForestRegressor()\n",
    "rf.fit(x_train, y_train)\n",
    "print(rf.score(x_train, y_train))\n",
    "\n",
    "y_rf = rf.predict(x_test)\n",
    "print(r2(y_test, y_rf))\n",
    "\n",
    "print(y_rf.sum())\n",
    "print(y_test.sum())"
   ]
  },
  {
   "cell_type": "code",
   "execution_count": 67,
   "metadata": {},
   "outputs": [
    {
     "data": {
      "text/plain": [
       "array([421791, 440853])"
      ]
     },
     "execution_count": 67,
     "metadata": {},
     "output_type": "execute_result"
    }
   ],
   "source": [
    "df[df.Group == 'BO-Laugenbreze 1ST'].ArticleNumber.unique()"
   ]
  },
  {
   "cell_type": "code",
   "execution_count": null,
   "metadata": {},
   "outputs": [],
   "source": []
  }
 ],
 "metadata": {
  "kernelspec": {
   "display_name": "base",
   "language": "python",
   "name": "python3"
  },
  "language_info": {
   "codemirror_mode": {
    "name": "ipython",
    "version": 3
   },
   "file_extension": ".py",
   "mimetype": "text/x-python",
   "name": "python",
   "nbconvert_exporter": "python",
   "pygments_lexer": "ipython3",
   "version": "3.9.7"
  },
  "orig_nbformat": 4
 },
 "nbformat": 4,
 "nbformat_minor": 2
}
