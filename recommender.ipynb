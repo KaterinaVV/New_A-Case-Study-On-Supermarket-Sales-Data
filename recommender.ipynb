{
 "cells": [
  {
   "cell_type": "code",
   "execution_count": 1,
   "metadata": {},
   "outputs": [],
   "source": [
    "import numpy as np\n",
    "import pandas as pd\n",
    "import warnings\n",
    "warnings.simplefilter(action=\"ignore\", category=Warning)\n",
    "\n",
    "from surprise import Dataset, Reader\n",
    "from surprise import accuracy\n",
    "from surprise.model_selection import train_test_split\n",
    "from surprise import SVD, KNNBasic\n",
    "from sklearn.metrics import confusion_matrix\n",
    "from sklearn.metrics import accuracy_score"
   ]
  },
  {
   "cell_type": "code",
   "execution_count": 2,
   "metadata": {},
   "outputs": [
    {
     "data": {
      "text/html": [
       "<div>\n",
       "<style scoped>\n",
       "    .dataframe tbody tr th:only-of-type {\n",
       "        vertical-align: middle;\n",
       "    }\n",
       "\n",
       "    .dataframe tbody tr th {\n",
       "        vertical-align: top;\n",
       "    }\n",
       "\n",
       "    .dataframe thead th {\n",
       "        text-align: right;\n",
       "    }\n",
       "</style>\n",
       "<table border=\"1\" class=\"dataframe\">\n",
       "  <thead>\n",
       "    <tr style=\"text-align: right;\">\n",
       "      <th></th>\n",
       "      <th>User</th>\n",
       "      <th>Item</th>\n",
       "      <th>Rating</th>\n",
       "    </tr>\n",
       "  </thead>\n",
       "  <tbody>\n",
       "    <tr>\n",
       "      <th>0</th>\n",
       "      <td>2022-01-03_1001_2_4</td>\n",
       "      <td>Gurken ST</td>\n",
       "      <td>1</td>\n",
       "    </tr>\n",
       "    <tr>\n",
       "      <th>1</th>\n",
       "      <td>2022-01-03_1001_2_4</td>\n",
       "      <td>Avocado vorgereift ST</td>\n",
       "      <td>1</td>\n",
       "    </tr>\n",
       "    <tr>\n",
       "      <th>2</th>\n",
       "      <td>2022-01-03_1001_2_4</td>\n",
       "      <td>VL Eier BH 10ST</td>\n",
       "      <td>1</td>\n",
       "    </tr>\n",
       "    <tr>\n",
       "      <th>3</th>\n",
       "      <td>2022-01-03_1001_2_4</td>\n",
       "      <td>Broetchen</td>\n",
       "      <td>1</td>\n",
       "    </tr>\n",
       "    <tr>\n",
       "      <th>4</th>\n",
       "      <td>2022-01-03_1001_2_4</td>\n",
       "      <td>GL Sahne 30% 200g VLOG</td>\n",
       "      <td>1</td>\n",
       "    </tr>\n",
       "  </tbody>\n",
       "</table>\n",
       "</div>"
      ],
      "text/plain": [
       "                  User                    Item  Rating\n",
       "0  2022-01-03_1001_2_4               Gurken ST       1\n",
       "1  2022-01-03_1001_2_4   Avocado vorgereift ST       1\n",
       "2  2022-01-03_1001_2_4        VL Eier BH 10ST        1\n",
       "3  2022-01-03_1001_2_4               Broetchen       1\n",
       "4  2022-01-03_1001_2_4  GL Sahne 30% 200g VLOG       1"
      ]
     },
     "execution_count": 2,
     "metadata": {},
     "output_type": "execute_result"
    }
   ],
   "source": [
    "df = pd.read_csv(\"rating_data.csv\", index_col=0)\n",
    "df.head()"
   ]
  },
  {
   "cell_type": "code",
   "execution_count": 3,
   "metadata": {},
   "outputs": [
    {
     "data": {
      "text/plain": [
       "(220556, 3)"
      ]
     },
     "execution_count": 3,
     "metadata": {},
     "output_type": "execute_result"
    }
   ],
   "source": [
    "df.shape"
   ]
  },
  {
   "cell_type": "code",
   "execution_count": 4,
   "metadata": {},
   "outputs": [
    {
     "data": {
      "text/plain": [
       "15754"
      ]
     },
     "execution_count": 4,
     "metadata": {},
     "output_type": "execute_result"
    }
   ],
   "source": [
    "df.User.nunique()"
   ]
  },
  {
   "cell_type": "code",
   "execution_count": 5,
   "metadata": {},
   "outputs": [],
   "source": [
    "# all_users = df['User'].unique()\n",
    "# np.random.shuffle(all_users)\n",
    "# test_users_num = int(len(all_users) * 0.2)\n",
    "\n",
    "# test_users = all_users[:test_users_num]\n",
    "# train_users = all_users[test_users_num:]\n",
    "# train_set = df[df['User'].isin(train_users)]\n",
    "# test_set = df[df['User'].isin(test_users)]\n",
    "# print(train_set.shape)\n",
    "# print(test_set.shape)"
   ]
  },
  {
   "cell_type": "code",
   "execution_count": 6,
   "metadata": {},
   "outputs": [],
   "source": [
    "reader = Reader(rating_scale=(0, 1))\n",
    "\n",
    "# train_data = Dataset.load_from_df(train_set[['User', 'Item', 'Rating']], reader)\n",
    "# test_data = Dataset.load_from_df(test_set[['User', 'Item', 'Rating']], reader)\n",
    "# trainset = train_data.build_full_trainset()\n",
    "# testset = [(user, item, rating) for (user, item, rating) in zip(test_set['User'], test_set['Item'], test_set['Rating'])]\n",
    "df = Dataset.load_from_df(df, reader)"
   ]
  },
  {
   "cell_type": "code",
   "execution_count": 7,
   "metadata": {},
   "outputs": [],
   "source": [
    "trainset, testset = train_test_split(df, test_size=0.2)"
   ]
  },
  {
   "cell_type": "code",
   "execution_count": 8,
   "metadata": {},
   "outputs": [],
   "source": [
    "# conf_matrix = {'TP': 0, 'FP': 0, 'TN': 0, 'FN': 0}\n",
    "\n",
    "# # 遍历测试集中的每个用户\n",
    "# for user_id, _, true_rating in testset:\n",
    "#     # 获取该用户已知的两件商品及其评分\n",
    "#     known_items_ratings = {(item_id, rating) for (_, item_id, rating) in testset if user_id == user_id}\n",
    "#     if len(known_items_ratings) < 2:\n",
    "#         # 如果用户已知的商品少于两件，跳过该用户的预测\n",
    "#         continue\n",
    "    \n",
    "#     # 获取相似用户\n",
    "#     similar_users = set()\n",
    "#     for item_id, _ in known_items_ratings:\n",
    "#         neighbors = algo.get_neighbors(trainset.to_inner_iid(item_id), k=10)  # 获取与已知商品相似的用户\n",
    "#         similar_users.update(neighbors)\n",
    "    \n",
    "#     # 获取相似用户对其他商品的综合评分\n",
    "#     weighted_ratings = {}\n",
    "#     for neighbor_id in similar_users:\n",
    "#         neighbor_ratings = trainset.ur[neighbor_id]\n",
    "#         for item_id, rating in neighbor_ratings:\n",
    "#             if item_id not in dict(known_items_ratings):  # 排除已知的两件商品\n",
    "#                 if item_id not in weighted_ratings:\n",
    "#                     weighted_ratings[item_id] = 0\n",
    "#                 weighted_ratings[item_id] += rating\n",
    "    \n",
    "#     # 预测新用户对其他商品的评分\n",
    "#     predicted_ratings = {item_id: rating / len(similar_users) for item_id, rating in weighted_ratings.items()}\n",
    "    \n",
    "#     # 将预测值与真实值进行比较，并更新混淆矩阵\n",
    "#     for item_id, predicted_rating in predicted_ratings.items():\n",
    "#         if predicted_rating > 0.5 and true_rating > 0.5:\n",
    "#             conf_matrix['TP'] += 1\n",
    "#         elif predicted_rating > 0.5 and true_rating <= 0.5:\n",
    "#             conf_matrix['FP'] += 1\n",
    "#         elif predicted_rating <= 0.5 and true_rating > 0.5:\n",
    "#             conf_matrix['FN'] += 1\n",
    "#         else:\n",
    "#             conf_matrix['TN'] += 1\n",
    "\n",
    "# # 输出混淆矩阵\n",
    "# print(\"Confusion Matrix:\")\n",
    "# print(\"TP:\", conf_matrix['TP'])\n",
    "# print(\"FP:\", conf_matrix['FP'])\n",
    "# print(\"TN:\", conf_matrix['TN'])\n",
    "# print(\"FN:\", conf_matrix['FN'])"
   ]
  },
  {
   "cell_type": "code",
   "execution_count": 9,
   "metadata": {},
   "outputs": [],
   "source": [
    "# # KNNBasic\n",
    "# knn = KNNBasic()\n",
    "# knn.fit(trainset)\n",
    "# predictions = knn.test(testset)\n",
    "# conf_matrix = {'TP': 0, 'FP': 0, 'FN':0,'TN':0}\n",
    "\n",
    "# # compare prediction results and test set true values\n",
    "# for pred in predictions:\n",
    "#     _, _, true_rating = pred.uid, pred.iid, pred.r_ui\n",
    "#     pred_rating = 1 if pred.est >= 0.5 else 0\n",
    "    \n",
    "    \n",
    "#     # update confusion matrix\n",
    "#     if true_rating == 1 and pred_rating == 1:\n",
    "#         conf_matrix['TP'] += 1\n",
    "#     elif true_rating == 0 and pred_rating == 0:\n",
    "#         conf_matrix['TN'] += 1\n",
    "#     elif true_rating == 0 and pred_rating == 1:\n",
    "#         conf_matrix['FP'] += 1\n",
    "#     else:\n",
    "#         conf_matrix['FN'] += 1\n",
    "\n",
    "# print(\"Confusion Matrix:\")\n",
    "# TP = conf_matrix['TP']\n",
    "# TN = conf_matrix['TN']\n",
    "# FP = conf_matrix['FP']\n",
    "# FN = conf_matrix['FN']\n",
    "# print(\"TP:\", TP)\n",
    "# print(\"TN:\", TN)\n",
    "# print(\"FP:\", FP)\n",
    "# print(\"FN:\", FN)\n",
    "# accuracy = (TP + TN) / (TP + TN + FP + FN)\n",
    "# precision = TP / (TP + FP)\n",
    "# recall = TP / (TP + FN)\n",
    "# print(\"accuracy:\", accuracy)\n",
    "# print(\"precision:\", precision)\n",
    "# print(\"recall:\", recall)\n",
    "# print(\"f1_score:\", 2 * (precision * recall) / (precision + recall))"
   ]
  },
  {
   "cell_type": "code",
   "execution_count": 10,
   "metadata": {},
   "outputs": [
    {
     "name": "stdout",
     "output_type": "stream",
     "text": [
      "Confusion Matrix:\n",
      "TP: 4338\n",
      "TN: 27752\n",
      "FP: 3060\n",
      "FN: 8962\n",
      "accuracy: 0.7274664490388103\n",
      "precision: 0.5863746958637469\n",
      "recall: 0.3261654135338346\n",
      "f1_score: 0.4191709343897961\n"
     ]
    }
   ],
   "source": [
    "# Matrix Factorization \n",
    "algo = SVD()\n",
    "algo.fit(trainset)\n",
    "predictions = algo.test(testset)\n",
    "conf_matrix = {'TP': 0, 'FP': 0, 'FN':0,'TN':0}\n",
    "\n",
    "# compare prediction results and test set true values\n",
    "for pred in predictions:\n",
    "    _, _, true_rating = pred.uid, pred.iid, pred.r_ui\n",
    "    pred_rating = 1 if pred.est >= 0.5 else 0\n",
    "    \n",
    "    \n",
    "    # update confusion matrix\n",
    "    if true_rating == 1 and pred_rating == 1:\n",
    "        conf_matrix['TP'] += 1\n",
    "    elif true_rating == 0 and pred_rating == 0:\n",
    "        conf_matrix['TN'] += 1\n",
    "    elif true_rating == 0 and pred_rating == 1:\n",
    "        conf_matrix['FP'] += 1\n",
    "    else:\n",
    "        conf_matrix['FN'] += 1\n",
    "\n",
    "print(\"Confusion Matrix:\")\n",
    "TP = conf_matrix['TP']\n",
    "TN = conf_matrix['TN']\n",
    "FP = conf_matrix['FP']\n",
    "FN = conf_matrix['FN']\n",
    "print(\"TP:\", TP)\n",
    "print(\"TN:\", TN)\n",
    "print(\"FP:\", FP)\n",
    "print(\"FN:\", FN)\n",
    "accuracy = (TP + TN) / (TP + TN + FP + FN)\n",
    "precision = TP / (TP + FP)\n",
    "recall = TP / (TP + FN)\n",
    "print(\"accuracy:\", accuracy)\n",
    "print(\"precision:\", precision)\n",
    "print(\"recall:\", recall)\n",
    "print(\"f1_score:\", 2 * (precision * recall) / (precision + recall))"
   ]
  },
  {
   "cell_type": "code",
   "execution_count": 30,
   "metadata": {},
   "outputs": [
    {
     "data": {
      "image/png": "[encoded data removed]",
      "text/plain": [
       "<Figure size 400x200 with 2 Axes>"
      ]
     },
     "metadata": {},
     "output_type": "display_data"
    }
   ],
   "source": [
    "import matplotlib.pyplot as plt\n",
    "import seaborn as sns\n",
    "from sklearn.metrics import confusion_matrix\n",
    "\n",
    "font_title = {\"family\" : \"serif\",\n",
    "              #\"color\" : \"darkblue\",\n",
    "              \"weight\" : \"bold\",\n",
    "              \"size\" : 12}\n",
    "\n",
    "font_text = {\"family\" : \"serif\",\n",
    "             #\"color\" : \"black\",\n",
    "             \"weight\" : \"normal\",\n",
    "             \"size\" : 11}\n",
    "\n",
    "font_annot = {\"family\" : \"serif\",\n",
    "              #\"color\" : \"black\",\n",
    "              \"weight\" : \"normal\",\n",
    "              \"size\" : 8}\n",
    "\n",
    "sns.set(font = \"serif\", \n",
    "        font_scale = 1.0, \n",
    "        style = \"ticks\")\n",
    "\n",
    "data = {'Positive': [conf_matrix['TP'], conf_matrix['FN']],\n",
    "        'Negative': [conf_matrix['FP'], conf_matrix['TN']]}\n",
    "conf_df = pd.DataFrame(data, index=['Positive', 'Negative'])\n",
    "\n",
    "plt.figure(figsize = (4,2))\n",
    "# s = sns.heatmap(conf_df, annot=True, cmap='Blues', fmt='g', annot_kws = font_text)\n",
    "s = sns.heatmap(conf_df, annot=True, cmap=\"Greys\", antialiased=True, fmt='g', annot_kws = font_text, vmax = 35000, vmin = 0)\n",
    "s.set_yticklabels(s.get_yticklabels(), rotation = 90, **font_text)\n",
    "s.set_xticklabels(s.get_xticklabels(), rotation = 0, **font_text)\n",
    "plt.xlabel('Actual', **font_text)\n",
    "plt.ylabel('Predicted', **font_text)\n",
    "plt.title(\"Confusion Matrix\", **font_title)\n",
    "plt.savefig(\"confusion_matrix.pdf\", format=\"pdf\", bbox_inches=\"tight\")\n",
    "plt.show()\n",
    "\n"
   ]
  },
  {
   "cell_type": "code",
   "execution_count": null,
   "metadata": {},
   "outputs": [],
   "source": []
  }
 ],
 "metadata": {
  "kernelspec": {
   "display_name": "base",
   "language": "python",
   "name": "python3"
  },
  "language_info": {
   "codemirror_mode": {
    "name": "ipython",
    "version": 3
   },
   "file_extension": ".py",
   "mimetype": "text/x-python",
   "name": "python",
   "nbconvert_exporter": "python",
   "pygments_lexer": "ipython3",
   "version": "3.9.7"
  }
 },
 "nbformat": 4,
 "nbformat_minor": 4
}
