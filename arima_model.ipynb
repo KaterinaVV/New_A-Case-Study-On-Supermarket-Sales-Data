{
 "cells": [
  {
   "cell_type": "code",
   "execution_count": 1,
   "metadata": {},
   "outputs": [],
   "source": [
    "import pandas as pd\n",
    "import numpy as np\n",
    "import matplotlib.pyplot as plt\n",
    "from statsmodels.tsa.arima.model import ARIMA\n",
    "from sklearn.metrics import mean_squared_error, mean_absolute_error\n"
   ]
  },
  {
   "cell_type": "code",
   "execution_count": 2,
   "metadata": {},
   "outputs": [
    {
     "data": {
      "text/html": [
       "<div>\n",
       "<style scoped>\n",
       "    .dataframe tbody tr th:only-of-type {\n",
       "        vertical-align: middle;\n",
       "    }\n",
       "\n",
       "    .dataframe tbody tr th {\n",
       "        vertical-align: top;\n",
       "    }\n",
       "\n",
       "    .dataframe thead th {\n",
       "        text-align: right;\n",
       "    }\n",
       "</style>\n",
       "<table border=\"1\" class=\"dataframe\">\n",
       "  <thead>\n",
       "    <tr style=\"text-align: right;\">\n",
       "      <th></th>\n",
       "      <th>Unnamed: 0</th>\n",
       "      <th>Date</th>\n",
       "      <th>StoreNumber</th>\n",
       "      <th>CashRegisterNumber</th>\n",
       "      <th>ReceiptNumber</th>\n",
       "      <th>ReceiptRowNumber</th>\n",
       "      <th>Time</th>\n",
       "      <th>ArticleNumber</th>\n",
       "      <th>ArticleName</th>\n",
       "      <th>Quantity</th>\n",
       "      <th>Timestamp</th>\n",
       "      <th>Month</th>\n",
       "      <th>Day</th>\n",
       "      <th>Hour</th>\n",
       "      <th>Group</th>\n",
       "    </tr>\n",
       "  </thead>\n",
       "  <tbody>\n",
       "    <tr>\n",
       "      <th>0</th>\n",
       "      <td>4</td>\n",
       "      <td>2022-01-03</td>\n",
       "      <td>1001</td>\n",
       "      <td>1</td>\n",
       "      <td>296</td>\n",
       "      <td>5</td>\n",
       "      <td>09:21:14</td>\n",
       "      <td>419727</td>\n",
       "      <td>GL H-Milch 3,5% 1L VLOG</td>\n",
       "      <td>1.0</td>\n",
       "      <td>2022-01-03 09:21:14</td>\n",
       "      <td>1</td>\n",
       "      <td>0</td>\n",
       "      <td>9</td>\n",
       "      <td>Milch</td>\n",
       "    </tr>\n",
       "    <tr>\n",
       "      <th>1</th>\n",
       "      <td>6</td>\n",
       "      <td>2022-01-03</td>\n",
       "      <td>1001</td>\n",
       "      <td>1</td>\n",
       "      <td>296</td>\n",
       "      <td>7</td>\n",
       "      <td>09:21:14</td>\n",
       "      <td>999999998025</td>\n",
       "      <td>Pfandartikel (Tandem) - EW</td>\n",
       "      <td>1.0</td>\n",
       "      <td>2022-01-03 09:21:14</td>\n",
       "      <td>1</td>\n",
       "      <td>0</td>\n",
       "      <td>9</td>\n",
       "      <td>Pfandartikel</td>\n",
       "    </tr>\n",
       "    <tr>\n",
       "      <th>2</th>\n",
       "      <td>7</td>\n",
       "      <td>2022-01-03</td>\n",
       "      <td>1001</td>\n",
       "      <td>1</td>\n",
       "      <td>296</td>\n",
       "      <td>8</td>\n",
       "      <td>09:21:14</td>\n",
       "      <td>435066</td>\n",
       "      <td>Schlaufentragetasche ST</td>\n",
       "      <td>1.0</td>\n",
       "      <td>2022-01-03 09:21:14</td>\n",
       "      <td>1</td>\n",
       "      <td>0</td>\n",
       "      <td>9</td>\n",
       "      <td>Schlaufentragetasche ST</td>\n",
       "    </tr>\n",
       "    <tr>\n",
       "      <th>3</th>\n",
       "      <td>19</td>\n",
       "      <td>2022-01-03</td>\n",
       "      <td>1001</td>\n",
       "      <td>1</td>\n",
       "      <td>300</td>\n",
       "      <td>1</td>\n",
       "      <td>09:25:34</td>\n",
       "      <td>421791</td>\n",
       "      <td>BO-Laugenbreze 1ST</td>\n",
       "      <td>1.0</td>\n",
       "      <td>2022-01-03 09:25:34</td>\n",
       "      <td>1</td>\n",
       "      <td>0</td>\n",
       "      <td>9</td>\n",
       "      <td>BO-Laugenbreze 1ST</td>\n",
       "    </tr>\n",
       "    <tr>\n",
       "      <th>4</th>\n",
       "      <td>20</td>\n",
       "      <td>2022-01-03</td>\n",
       "      <td>1001</td>\n",
       "      <td>1</td>\n",
       "      <td>300</td>\n",
       "      <td>2</td>\n",
       "      <td>09:25:34</td>\n",
       "      <td>421791</td>\n",
       "      <td>BO-Laugenbreze 1ST</td>\n",
       "      <td>1.0</td>\n",
       "      <td>2022-01-03 09:25:34</td>\n",
       "      <td>1</td>\n",
       "      <td>0</td>\n",
       "      <td>9</td>\n",
       "      <td>BO-Laugenbreze 1ST</td>\n",
       "    </tr>\n",
       "  </tbody>\n",
       "</table>\n",
       "</div>"
      ],
      "text/plain": [
       "   Unnamed: 0        Date  StoreNumber  CashRegisterNumber  ReceiptNumber  \\\n",
       "0           4  2022-01-03         1001                   1            296   \n",
       "1           6  2022-01-03         1001                   1            296   \n",
       "2           7  2022-01-03         1001                   1            296   \n",
       "3          19  2022-01-03         1001                   1            300   \n",
       "4          20  2022-01-03         1001                   1            300   \n",
       "\n",
       "   ReceiptRowNumber      Time  ArticleNumber                 ArticleName  \\\n",
       "0                 5  09:21:14         419727     GL H-Milch 3,5% 1L VLOG   \n",
       "1                 7  09:21:14   999999998025  Pfandartikel (Tandem) - EW   \n",
       "2                 8  09:21:14         435066     Schlaufentragetasche ST   \n",
       "3                 1  09:25:34         421791          BO-Laugenbreze 1ST   \n",
       "4                 2  09:25:34         421791          BO-Laugenbreze 1ST   \n",
       "\n",
       "   Quantity            Timestamp  Month  Day  Hour                    Group  \n",
       "0       1.0  2022-01-03 09:21:14      1    0     9                    Milch  \n",
       "1       1.0  2022-01-03 09:21:14      1    0     9             Pfandartikel  \n",
       "2       1.0  2022-01-03 09:21:14      1    0     9  Schlaufentragetasche ST  \n",
       "3       1.0  2022-01-03 09:25:34      1    0     9       BO-Laugenbreze 1ST  \n",
       "4       1.0  2022-01-03 09:25:34      1    0     9       BO-Laugenbreze 1ST  "
      ]
     },
     "execution_count": 2,
     "metadata": {},
     "output_type": "execute_result"
    }
   ],
   "source": [
    "df = pd.read_csv('Article_top_Data.csv')\n",
    "df.head()"
   ]
  },
  {
   "cell_type": "code",
   "execution_count": 3,
   "metadata": {},
   "outputs": [
    {
     "data": {
      "text/html": [
       "<div>\n",
       "<style scoped>\n",
       "    .dataframe tbody tr th:only-of-type {\n",
       "        vertical-align: middle;\n",
       "    }\n",
       "\n",
       "    .dataframe tbody tr th {\n",
       "        vertical-align: top;\n",
       "    }\n",
       "\n",
       "    .dataframe thead th {\n",
       "        text-align: right;\n",
       "    }\n",
       "</style>\n",
       "<table border=\"1\" class=\"dataframe\">\n",
       "  <thead>\n",
       "    <tr style=\"text-align: right;\">\n",
       "      <th></th>\n",
       "      <th>Date</th>\n",
       "      <th>Quantity</th>\n",
       "    </tr>\n",
       "  </thead>\n",
       "  <tbody>\n",
       "    <tr>\n",
       "      <th>0</th>\n",
       "      <td>2022-01-03</td>\n",
       "      <td>1005.0</td>\n",
       "    </tr>\n",
       "    <tr>\n",
       "      <th>1</th>\n",
       "      <td>2022-01-04</td>\n",
       "      <td>735.0</td>\n",
       "    </tr>\n",
       "    <tr>\n",
       "      <th>2</th>\n",
       "      <td>2022-01-05</td>\n",
       "      <td>1009.0</td>\n",
       "    </tr>\n",
       "    <tr>\n",
       "      <th>3</th>\n",
       "      <td>2022-01-07</td>\n",
       "      <td>887.0</td>\n",
       "    </tr>\n",
       "    <tr>\n",
       "      <th>4</th>\n",
       "      <td>2022-01-08</td>\n",
       "      <td>855.0</td>\n",
       "    </tr>\n",
       "  </tbody>\n",
       "</table>\n",
       "</div>"
      ],
      "text/plain": [
       "         Date  Quantity\n",
       "0  2022-01-03    1005.0\n",
       "1  2022-01-04     735.0\n",
       "2  2022-01-05    1009.0\n",
       "3  2022-01-07     887.0\n",
       "4  2022-01-08     855.0"
      ]
     },
     "execution_count": 3,
     "metadata": {},
     "output_type": "execute_result"
    }
   ],
   "source": [
    "x = df[(df.Group==\"BO-Laugenbreze 1ST\")]\n",
    "x = x.groupby(['Date'], as_index=False).aggregate({'Quantity': 'sum'})\n",
    "x.head()"
   ]
  },
  {
   "cell_type": "code",
   "execution_count": 4,
   "metadata": {},
   "outputs": [
    {
     "data": {
      "text/html": [
       "<div>\n",
       "<style scoped>\n",
       "    .dataframe tbody tr th:only-of-type {\n",
       "        vertical-align: middle;\n",
       "    }\n",
       "\n",
       "    .dataframe tbody tr th {\n",
       "        vertical-align: top;\n",
       "    }\n",
       "\n",
       "    .dataframe thead th {\n",
       "        text-align: right;\n",
       "    }\n",
       "</style>\n",
       "<table border=\"1\" class=\"dataframe\">\n",
       "  <thead>\n",
       "    <tr style=\"text-align: right;\">\n",
       "      <th></th>\n",
       "      <th>Date</th>\n",
       "      <th>Quantity</th>\n",
       "    </tr>\n",
       "  </thead>\n",
       "  <tbody>\n",
       "    <tr>\n",
       "      <th>0</th>\n",
       "      <td>2022-01-03</td>\n",
       "      <td>1005.0</td>\n",
       "    </tr>\n",
       "    <tr>\n",
       "      <th>1</th>\n",
       "      <td>2022-01-04</td>\n",
       "      <td>735.0</td>\n",
       "    </tr>\n",
       "    <tr>\n",
       "      <th>2</th>\n",
       "      <td>2022-01-05</td>\n",
       "      <td>1009.0</td>\n",
       "    </tr>\n",
       "    <tr>\n",
       "      <th>3</th>\n",
       "      <td>2022-01-07</td>\n",
       "      <td>887.0</td>\n",
       "    </tr>\n",
       "    <tr>\n",
       "      <th>4</th>\n",
       "      <td>2022-01-08</td>\n",
       "      <td>855.0</td>\n",
       "    </tr>\n",
       "  </tbody>\n",
       "</table>\n",
       "</div>"
      ],
      "text/plain": [
       "         Date  Quantity\n",
       "0  2022-01-03    1005.0\n",
       "1  2022-01-04     735.0\n",
       "2  2022-01-05    1009.0\n",
       "3  2022-01-07     887.0\n",
       "4  2022-01-08     855.0"
      ]
     },
     "execution_count": 4,
     "metadata": {},
     "output_type": "execute_result"
    }
   ],
   "source": [
    "x.head()"
   ]
  },
  {
   "cell_type": "code",
   "execution_count": 5,
   "metadata": {},
   "outputs": [
    {
     "data": {
      "text/plain": [
       "(303, 2)"
      ]
     },
     "execution_count": 5,
     "metadata": {},
     "output_type": "execute_result"
    }
   ],
   "source": [
    "x.shape"
   ]
  },
  {
   "cell_type": "code",
   "execution_count": 6,
   "metadata": {},
   "outputs": [],
   "source": [
    "x.Date = pd.to_datetime(x.Date)\n"
   ]
  },
  {
   "cell_type": "code",
   "execution_count": 7,
   "metadata": {},
   "outputs": [],
   "source": [
    "x_train = x[x.Date.dt.month<9]\n",
    "x_test = x[x.Date.dt.month>=9]"
   ]
  },
  {
   "cell_type": "code",
   "execution_count": 8,
   "metadata": {},
   "outputs": [
    {
     "data": {
      "text/plain": [
       "0      1005.0\n",
       "1       735.0\n",
       "2      1009.0\n",
       "3       887.0\n",
       "4       855.0\n",
       "        ...  \n",
       "195     247.0\n",
       "196     474.0\n",
       "197     563.0\n",
       "198     508.0\n",
       "199     572.0\n",
       "Name: Quantity, Length: 200, dtype: float64"
      ]
     },
     "execution_count": 8,
     "metadata": {},
     "output_type": "execute_result"
    }
   ],
   "source": [
    "x_train.Quantity"
   ]
  },
  {
   "cell_type": "code",
   "execution_count": 9,
   "metadata": {},
   "outputs": [
    {
     "name": "stdout",
     "output_type": "stream",
     "text": [
      "200    558.501042\n",
      "201    563.611715\n",
      "202    561.676827\n",
      "203    562.409371\n",
      "204    562.132031\n",
      "          ...    \n",
      "298    562.208196\n",
      "299    562.208196\n",
      "300    562.208196\n",
      "301    562.208196\n",
      "302    562.208196\n",
      "Name: predicted_mean, Length: 103, dtype: float64\n",
      "RMSE: 449.5715809299639\n"
     ]
    }
   ],
   "source": [
    "p=1\n",
    "d=1\n",
    "q=1\n",
    "\n",
    "model = ARIMA(x_train.Quantity, order=(p,d,q))\n",
    "\n",
    "model_fit = model.fit()\n",
    "\n",
    "forecast_steps = 103\n",
    "forecast = model_fit.forecast(steps=forecast_steps)\n",
    "\n",
    "print(forecast)\n",
    "\n",
    "rmse = mean_squared_error(x_test.Quantity, forecast, squared=False)\n",
    "print(\"RMSE:\", rmse)\n"
   ]
  },
  {
   "cell_type": "code",
   "execution_count": 11,
   "metadata": {},
   "outputs": [
    {
     "data": {
      "text/plain": [
       "57904.75507192197"
      ]
     },
     "execution_count": 11,
     "metadata": {},
     "output_type": "execute_result"
    }
   ],
   "source": [
    "forecast.sum()"
   ]
  },
  {
   "cell_type": "code",
   "execution_count": null,
   "metadata": {},
   "outputs": [],
   "source": []
  }
 ],
 "metadata": {
  "kernelspec": {
   "display_name": "base",
   "language": "python",
   "name": "python3"
  },
  "language_info": {
   "codemirror_mode": {
    "name": "ipython",
    "version": 3
   },
   "file_extension": ".py",
   "mimetype": "text/x-python",
   "name": "python",
   "nbconvert_exporter": "python",
   "pygments_lexer": "ipython3",
   "version": "2.7.undefined"
  },
  "orig_nbformat": 4
 },
 "nbformat": 4,
 "nbformat_minor": 2
}
