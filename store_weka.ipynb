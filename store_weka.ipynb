{
 "cells": [
  {
   "cell_type": "code",
   "execution_count": 1,
   "metadata": {},
   "outputs": [],
   "source": [
    "import pandas as pd\n",
    "from sklearn.preprocessing import LabelEncoder"
   ]
  },
  {
   "cell_type": "code",
   "execution_count": 2,
   "metadata": {},
   "outputs": [],
   "source": [
    "def create_weka_file(group=False):\n",
    "    df = pd.read_csv('Article_top_Data.csv')\n",
    "    if group:\n",
    "        # group the similar Stores\n",
    "        df.loc[df.StoreNumber.isin([1007, 1033, 1053, 1223, 1311]), 'StoreNumber'] = 0\n",
    "        df.loc[df.StoreNumber.isin([1001, 1028, 1098, 1303, 1487]), 'StoreNumber'] = 1\n",
    "        df.loc[df.StoreNumber.isin([1417, 1436, 1504, 2801]), 'StoreNumber'] = 2\n",
    "    print(df.StoreNumber.unique())\n",
    "    encoder = LabelEncoder()\n",
    "    df.StoreNumber = encoder.fit_transform(df.StoreNumber)\n",
    "    print(df.StoreNumber.unique())\n",
    "    df.StoreNumber = df.StoreNumber.apply(lambda x: f'store_{x}')\n",
    "    print(df.StoreNumber.unique())\n",
    "\n",
    "    sales = df.groupby(['Date','StoreNumber', 'Group'], as_index=False).aggregate({'Quantity': 'sum'})\n",
    "    # Feature matrix with shape (n_series x time_observations)\n",
    "    ts_series = sales.pivot(index=['Date','StoreNumber'], columns=['Group'])\n",
    "    ts_series = ts_series.fillna(0)\n",
    "\n",
    "    ts_series.reset_index(1, inplace=True)\n",
    "\n",
    "    ts_series.columns = ts_series.columns.droplevel(0)\n",
    "    ts_series.rename(columns={'':'StoreNumber'}, inplace=True)\n",
    "\n",
    "    ts_series.columns = ['StoreNumber','Augustiner','Avocado','BO-Laugenbreze','Bananen','Broetchen','GL_Sahne',\n",
    "                        'Gurken','Kiwi_Gruen','Mozzarella','Milch','Pfandartikel','SammelNr','Schlaufentragetasche','VL_Eier','Zeitschriften']\n",
    "    import arff\n",
    "    if group:\n",
    "        import arff\n",
    "        arff.dump('store_weka_group.arff',\n",
    "                ts_series.values,\n",
    "                relation = 'stores',\n",
    "                names = ts_series.columns)\n",
    "    else:\n",
    "        arff.dump('store_weka.arff',\n",
    "                ts_series.values,\n",
    "                relation = 'stores',\n",
    "                names = ts_series.columns)"
   ]
  },
  {
   "cell_type": "code",
   "execution_count": 3,
   "metadata": {},
   "outputs": [
    {
     "name": "stdout",
     "output_type": "stream",
     "text": [
      "[1001 1007 1028 1033 1053 1098 1223 1303 1311 1417 1436 1487 1504 2801]\n",
      "[ 0  1  2  3  4  5  6  7  8  9 10 11 12 13]\n",
      "['store_0' 'store_1' 'store_2' 'store_3' 'store_4' 'store_5' 'store_6'\n",
      " 'store_7' 'store_8' 'store_9' 'store_10' 'store_11' 'store_12' 'store_13']\n"
     ]
    }
   ],
   "source": [
    "create_weka_file()"
   ]
  },
  {
   "cell_type": "code",
   "execution_count": 4,
   "metadata": {},
   "outputs": [
    {
     "name": "stdout",
     "output_type": "stream",
     "text": [
      "[1 0 2]\n",
      "[1 0 2]\n",
      "['store_1' 'store_0' 'store_2']\n"
     ]
    }
   ],
   "source": [
    "create_weka_file(True)"
   ]
  }
 ],
 "metadata": {
  "kernelspec": {
   "display_name": "base",
   "language": "python",
   "name": "python3"
  },
  "language_info": {
   "codemirror_mode": {
    "name": "ipython",
    "version": 3
   },
   "file_extension": ".py",
   "mimetype": "text/x-python",
   "name": "python",
   "nbconvert_exporter": "python",
   "pygments_lexer": "ipython3",
   "version": "3.9.7"
  },
  "orig_nbformat": 4
 },
 "nbformat": 4,
 "nbformat_minor": 2
}
